{
 "cells": [
  {
   "cell_type": "code",
   "execution_count": 31,
   "id": "7dc15a6f",
   "metadata": {},
   "outputs": [],
   "source": [
    "import numpy as np\n",
    "from flask import Flask, request, jsonify, render_template\n",
    "from werkzeug.utils import secure_filename\n",
    "import pickle\n",
    "import os"
   ]
  },
  {
   "cell_type": "code",
   "execution_count": null,
   "id": "94024957",
   "metadata": {},
   "outputs": [],
   "source": [
    "@app.route('/success', methods = ['POST'])  \n",
    "def success():  \n",
    "    if request.method == 'POST':  \n",
    "        f = request.files['file']  \n",
    "        f.save(f.filename)  \n",
    "        return render_template(\"success.html\", name = f.filename)  \n",
    "  \n",
    "if __name__ == '__main__':  \n",
    "    app.run(debug = True) "
   ]
  },
  {
   "cell_type": "code",
   "execution_count": 28,
   "id": "fc7b426a",
   "metadata": {},
   "outputs": [],
   "source": [
    "UPLOAD_FOLDER = 'C:/Users/91902/infantilevocaldecoder/audio'\n",
    "app = Flask(__name__)\n",
    "model = pickle.load(open('myrandomForest.pkl', 'rb'))\n",
    "\n",
    "@app.route('/')\n",
    "def home():\n",
    "    return render_template('index.html')"
   ]
  },
  {
   "cell_type": "code",
   "execution_count": 29,
   "id": "a645b04b",
   "metadata": {},
   "outputs": [],
   "source": [
    "@app.route('/predict',methods=['POST'])\n",
    "def predict():\n",
    "    dir = 'C:/Users/91902/infantilevocaldecoder/output'\n",
    "    for f in os.listdir(dir):\n",
    "        os.remove(os.path.join(dir, f))"
   ]
  },
  {
   "cell_type": "code",
   "execution_count": 30,
   "id": "3afd98d7",
   "metadata": {},
   "outputs": [],
   "source": [
    "predict()"
   ]
  },
  {
   "cell_type": "code",
   "execution_count": null,
   "id": "41f3b2e8",
   "metadata": {},
   "outputs": [],
   "source": []
  }
 ],
 "metadata": {
  "kernelspec": {
   "display_name": "Python 3",
   "language": "python",
   "name": "python3"
  },
  "language_info": {
   "codemirror_mode": {
    "name": "ipython",
    "version": 3
   },
   "file_extension": ".py",
   "mimetype": "text/x-python",
   "name": "python",
   "nbconvert_exporter": "python",
   "pygments_lexer": "ipython3",
   "version": "3.6.6"
  }
 },
 "nbformat": 4,
 "nbformat_minor": 5
}
