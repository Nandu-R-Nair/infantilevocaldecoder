{
 "cells": [
  {
   "cell_type": "code",
   "execution_count": 5,
   "id": "c5adb4c6",
   "metadata": {},
   "outputs": [],
   "source": [
    "import os\n",
    "raw_audio = dict()\n",
    "\n",
    "\n",
    "directory = 'D:/mainproject/babycrydata/output'\n",
    "for filename in os.listdir(directory):\n",
    "    if filename.endswith(\".wav\"): \n",
    "        raw_audio[os.path.join(directory, filename)] = 'output'\n",
    "    else:\n",
    "        continue\n",
    "\n",
    "\n",
    "\n",
    "#print (raw_audio)"
   ]
  },
  {
   "cell_type": "code",
   "execution_count": 10,
   "id": "b4676f14",
   "metadata": {},
   "outputs": [
    {
     "ename": "PermissionError",
     "evalue": "[WinError 32] The process cannot access the file because it is being used by another process: 'D:/mainproject/babycrydata/audio/output/mainprojectsnippet6.wav' -> 'D:/mainproject/babycrydata/audio/output/mainprojectsnippet6.wav.bak'",
     "output_type": "error",
     "traceback": [
      "\u001b[1;31m---------------------------------------------------------------------------\u001b[0m",
      "\u001b[1;31mPermissionError\u001b[0m                           Traceback (most recent call last)",
      "\u001b[1;32m<ipython-input-10-fae50ac80f4e>\u001b[0m in \u001b[0;36m<module>\u001b[1;34m\u001b[0m\n\u001b[0;32m     41\u001b[0m \u001b[1;33m\u001b[0m\u001b[0m\n\u001b[0;32m     42\u001b[0m \u001b[1;32mfor\u001b[0m \u001b[0maudio_file\u001b[0m \u001b[1;32min\u001b[0m \u001b[0mraw_audio\u001b[0m\u001b[1;33m:\u001b[0m\u001b[1;33m\u001b[0m\u001b[0m\n\u001b[1;32m---> 43\u001b[1;33m     \u001b[0mchop_song\u001b[0m\u001b[1;33m(\u001b[0m\u001b[0maudio_file\u001b[0m\u001b[1;33m,\u001b[0m \u001b[0mraw_audio\u001b[0m\u001b[1;33m[\u001b[0m\u001b[0maudio_file\u001b[0m\u001b[1;33m]\u001b[0m\u001b[1;33m)\u001b[0m\u001b[1;33m\u001b[0m\u001b[0m\n\u001b[0m",
      "\u001b[1;32m<ipython-input-10-fae50ac80f4e>\u001b[0m in \u001b[0;36mchop_song\u001b[1;34m(filename, folder)\u001b[0m\n\u001b[0;32m     33\u001b[0m         \u001b[1;32melif\u001b[0m \u001b[0msnippet\u001b[0m\u001b[1;33m.\u001b[0m\u001b[0mgetnframes\u001b[0m\u001b[1;33m(\u001b[0m\u001b[1;33m)\u001b[0m \u001b[1;33m!=\u001b[0m \u001b[0mlast_number_frames\u001b[0m\u001b[1;33m:\u001b[0m\u001b[1;33m\u001b[0m\u001b[0m\n\u001b[0;32m     34\u001b[0m             \u001b[1;31m#print \"this file doesnt have the same frame size!, remaming file\"\u001b[0m\u001b[1;33m\u001b[0m\u001b[1;33m\u001b[0m\u001b[0m\n\u001b[1;32m---> 35\u001b[1;33m             \u001b[0mos\u001b[0m\u001b[1;33m.\u001b[0m\u001b[0mrename\u001b[0m\u001b[1;33m(\u001b[0m\u001b[0msnippetfilename\u001b[0m\u001b[1;33m,\u001b[0m \u001b[0msnippetfilename\u001b[0m\u001b[1;33m+\u001b[0m\u001b[1;34m\".bak\"\u001b[0m\u001b[1;33m)\u001b[0m\u001b[1;33m\u001b[0m\u001b[0m\n\u001b[0m\u001b[0;32m     36\u001b[0m         \u001b[0msnippet\u001b[0m\u001b[1;33m.\u001b[0m\u001b[0mclose\u001b[0m\u001b[1;33m(\u001b[0m\u001b[1;33m)\u001b[0m\u001b[1;33m\u001b[0m\u001b[0m\n\u001b[0;32m     37\u001b[0m \u001b[1;33m\u001b[0m\u001b[0m\n",
      "\u001b[1;31mPermissionError\u001b[0m: [WinError 32] The process cannot access the file because it is being used by another process: 'D:/mainproject/babycrydata/audio/output/mainprojectsnippet6.wav' -> 'D:/mainproject/babycrydata/audio/output/mainprojectsnippet6.wav.bak'"
     ]
    }
   ],
   "source": [
    "import wave \n",
    "import math\n",
    "\n",
    "def chop_song(filename, folder):\n",
    "    handle = wave.open(filename, 'rb')\n",
    "    frame_rate = handle.getframerate()\n",
    "    n_frames = handle.getnframes()\n",
    "    window_size = 2 * frame_rate\n",
    "    num_secs = int(math.ceil(n_frames/frame_rate))\n",
    "    #print filename\n",
    "    last_number_frames = 0\n",
    "    #Slicing Audio file\n",
    "    for i in range(num_secs):\n",
    "        \n",
    "        shortfilename = filename.split(\"/\")[1].split(\".\")[0]\n",
    "        snippetfilename = 'D:/mainproject/babycrydata/audio/' + folder + '/' + shortfilename + 'snippet' + str(i+1) + '.wav'\n",
    "        #print snippetfilename\n",
    "        snippet = wave.open(snippetfilename ,'wb')\n",
    "        snippet.setnchannels(2)\n",
    "        snippet.setsampwidth(handle.getsampwidth())\n",
    "        snippet.setframerate(frame_rate)\n",
    "        #snippet.setsampwidth(2)\n",
    "        #snippet.setframerate(11025)\n",
    "        snippet.setnframes(handle.getnframes())\n",
    "        snippet.writeframes(handle.readframes(window_size))\n",
    "        handle.setpos(handle.tell() - 1 * frame_rate)\n",
    "        #print snippetfilename, \":\", snippet.getnchannels(), snippet.getframerate(), snippet.getnframes(), snippet.getsampwidth()\n",
    "        \n",
    "        #The last audio slice might be less than a second, if this is the case, we don't want to include it because it will not fit into our matrix \n",
    "        if last_number_frames < 1:\n",
    "            last_number_frames = snippet.getnframes()\n",
    "            #snippet.close()\n",
    "        elif snippet.getnframes() != last_number_frames:\n",
    "            #print \"this file doesnt have the same frame size!, remaming file\"\n",
    "            os.rename(snippetfilename, snippetfilename+\".bak\")\n",
    "        snippet.close()\n",
    "\n",
    " \n",
    "\n",
    "    handle.close()\n",
    "\n",
    "for audio_file in raw_audio:\n",
    "    chop_song(audio_file, raw_audio[audio_file])"
   ]
  },
  {
   "cell_type": "code",
   "execution_count": 6,
   "id": "faf76f42",
   "metadata": {},
   "outputs": [
    {
     "name": "stdout",
     "output_type": "stream",
     "text": [
      "8000\n",
      "7\n",
      "53280\n"
     ]
    }
   ],
   "source": [
    "import wave \n",
    "import math\n",
    "from pydub import AudioSegment\n",
    "from pydub.utils import make_chunks\n",
    "\n",
    "def chop_song(filename, folder):\n",
    "    #print(filename)\n",
    "    head, tail = os.path.split(filename)\n",
    "    shortfilename = tail\n",
    "    myaudio = AudioSegment.from_file(filename, \"wav\") \n",
    "    handle = wave.open(filename, 'rb')\n",
    "    frame_rate = handle.getframerate()\n",
    "    print( frame_rate)\n",
    "    n_frames = handle.getnframes()\n",
    "    window_size = 2 * frame_rate\n",
    "    num_secs = int(math.ceil(n_frames/frame_rate))\n",
    "    last_number_frames = 0\n",
    "    print(num_secs)\n",
    "    print(n_frames)\n",
    "\n",
    "\n",
    "\n",
    "\n",
    "for audio_file in raw_audio:\n",
    "    chop_song(audio_file, raw_audio[audio_file])"
   ]
  },
  {
   "cell_type": "code",
   "execution_count": null,
   "id": "57e6b2af",
   "metadata": {},
   "outputs": [],
   "source": [
    "    n_frames = handle.getnframes()\n",
    "    window_size = 2 * frame_rate\n",
    "    num_secs = int(math.ceil(n_frames/frame_rate))\n",
    "    last_number_frames = 0\n",
    "    chunk_length_ms = 1000\n",
    "    chunks = make_chunks(myaudio, chunk_length_ms)\n",
    "\n",
    "    for i, chunk in enumerate(chunks):\n",
    "        chunk_name = folder + shortfilename + 'snippet' + str(i+1) + '.wav'\n",
    "        print (\"exporting\", chunk_name)\n",
    "        chunk.export( 'D:/mainproject/babycrydata/audio/'+ folder + '/'+ chunk_name, format=\"wav\")"
   ]
  },
  {
   "cell_type": "code",
   "execution_count": null,
   "id": "e1ba8b25",
   "metadata": {},
   "outputs": [],
   "source": [
    "        l=i\n",
    "        count=count+1\n",
    "for i, filename in enumerate(os.listdir('D:/mainproject/babycrydata/audio/tired/')):\n",
    "    if filename.endswith(\".wav\"):\n",
    "        #print filename\n",
    "        audiofile, sr = librosa.load(\"D:/mainproject/babycrydata/audio/tired/\" + filename)\n",
    "        fingerprint = librosa.feature.mfcc(y=audiofile, sr=sr, n_mfcc=40)\n",
    "        x = pd.DataFrame(fingerprint, dtype = 'float32')\n",
    "        x[44] = 'tired'\n",
    "        X.loc[i+j+k+l] = x.loc[0] \n",
    "        count=count+1"
   ]
  },
  {
   "cell_type": "code",
   "execution_count": null,
   "id": "ce59b6cc",
   "metadata": {},
   "outputs": [],
   "source": [
    "import sklearn.metrics as metrics\n",
    "metrics.f1_score(y_test, y_pred_test,average='weighted', labels=np.unique(y_pred_test))"
   ]
  }
 ],
 "metadata": {
  "kernelspec": {
   "display_name": "Python 3",
   "language": "python",
   "name": "python3"
  },
  "language_info": {
   "codemirror_mode": {
    "name": "ipython",
    "version": 3
   },
   "file_extension": ".py",
   "mimetype": "text/x-python",
   "name": "python",
   "nbconvert_exporter": "python",
   "pygments_lexer": "ipython3",
   "version": "3.6.6"
  }
 },
 "nbformat": 4,
 "nbformat_minor": 5
}
