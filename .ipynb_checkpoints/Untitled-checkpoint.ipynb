{
 "cells": [
  {
   "cell_type": "raw",
   "id": "7734f276",
   "metadata": {},
   "source": [
    "import audioread\n",
    "import sounddevice as sd\n",
    "import struct\n",
    "import wave\n",
    "import contextlib\n",
    "import sys\n",
    "import glob\n",
    "from scipy.io import wavfile as wav\n",
    "import matplotlib.pyplot as plt\n",
    "import IPython.display as ipd\n",
    "import numpy as np\n",
    "import pandas as pd\n",
    "import librosa\n",
    "import wave\n",
    "from scipy.io import wavfile as wav\n",
    "import joblib\n",
    "from sklearn.ensemble import RandomForestClassifier\n",
    "from sklearn.decomposition import PCA\n",
    "out='D:/mainproject/babycrydata/output/'\n",
    "inpath=input(\"PATH  :   \")\n",
    "ext = (inpath.split('/')[-1]).split('.')[-1]\n",
    "#------------------------convert start -------------------------------------\n",
    "filename = inpath\n",
    "if(ext=='3gp'):        \n",
    "    with audioread.audio_open(filename) as f:\n",
    "#         print('Input file: %i channels at %i Hz; %.1f seconds.' %\n",
    "#               (f.channels, f.samplerate, f.duration),\n",
    "#               file=sys.stderr)\n",
    "#         print('Backend:', str(type(f).__module__).split('.')[1],\n",
    "#               file=sys.stderr)\n",
    "        filename_new = out + filename.split('/')[-1]\n",
    "        with contextlib.closing(wave.open(filename_new + '.wav', 'w')) as of:\n",
    "            of.setnchannels(f.channels)\n",
    "            of.setframerate(f.samplerate)\n",
    "            of.setsampwidth(2)\n",
    "            for buf in f:\n",
    "                of.writeframes(buf)\n",
    "            print(of)\n",
    "elif(ext=='caf'):\n",
    "    with audioread.audio_open(filename) as f:\n",
    "#         print('Input file: %i channels at %i Hz; %.1f seconds.' %\n",
    "#               (f.channels, f.samplerate, f.duration),\n",
    "#               file=sys.stderr)\n",
    "#         print('Backend:', str(type(f).__module__).split('.')[1],\n",
    "#               file=sys.stderr)\n",
    "        filename_new = out + filename.split('/')[-1]\n",
    "        with contextlib.closing(wave.open(filename_new + '.wav', 'w')) as of:\n",
    "            of.setnchannels(f.channels)\n",
    "            of.setframerate(f.samplerate)\n",
    "            of.setsampwidth(2)\n",
    "            for buf in f:\n",
    "                of.writeframes(buf)\n",
    "elif(ext=='mp4'):\n",
    "    with audioread.audio_open(filename) as f:\n",
    "#         print('Input file: %i channels at %i Hz; %.1f seconds.' %\n",
    "#               (f.channels, f.samplerate, f.duration),\n",
    "#               file=sys.stderr)\n",
    "#         print('Backend:', str(type(f).__module__).split('.')[1],\n",
    "#               file=sys.stderr)\n",
    "        filename_new = out + filename.split('/')[-1]\n",
    "        with contextlib.closing(wave.open(filename_new + '.wav', 'w')) as of:\n",
    "            of.setnchannels(f.channels)\n",
    "            of.setframerate(f.samplerate)\n",
    "            of.setsampwidth(2)\n",
    "            for buf in f:\n",
    "                of.writeframes(buf)\n",
    "else:\n",
    "    filename_new = filename\n",
    "    "
   ]
  },
  {
   "cell_type": "code",
   "execution_count": null,
   "id": "5dc0a353",
   "metadata": {},
   "outputs": [],
   "source": [
    "print(filename)"
   ]
  },
  {
   "cell_type": "code",
   "execution_count": 54,
   "id": "0d2645eb",
   "metadata": {},
   "outputs": [],
   "source": [
    "import os\n",
    "raw_audio = dict()\n",
    "\n",
    "\n",
    "directory = 'D:/mainproject/babycrydata/output'\n",
    "for filename in os.listdir(directory):\n",
    "    if filename.endswith(\".wav\"): \n",
    "        raw_audio[os.path.join(directory, filename)] = 'output'\n",
    "    else:\n",
    "        continue"
   ]
  },
  {
   "cell_type": "code",
   "execution_count": 55,
   "id": "2e23bd67",
   "metadata": {},
   "outputs": [
    {
     "name": "stdout",
     "output_type": "stream",
     "text": [
      "exporting output64acb345-a61e-4ef3-a5a6-cf83c04b83f1-1430058990597-1.7-m-72-dc.wavsnippet1.wav\n",
      "exporting output64acb345-a61e-4ef3-a5a6-cf83c04b83f1-1430058990597-1.7-m-72-dc.wavsnippet2.wav\n",
      "exporting output64acb345-a61e-4ef3-a5a6-cf83c04b83f1-1430058990597-1.7-m-72-dc.wavsnippet3.wav\n",
      "exporting output64acb345-a61e-4ef3-a5a6-cf83c04b83f1-1430058990597-1.7-m-72-dc.wavsnippet4.wav\n",
      "exporting output64acb345-a61e-4ef3-a5a6-cf83c04b83f1-1430058990597-1.7-m-72-dc.wavsnippet5.wav\n",
      "exporting output64acb345-a61e-4ef3-a5a6-cf83c04b83f1-1430058990597-1.7-m-72-dc.wavsnippet6.wav\n",
      "exporting output64acb345-a61e-4ef3-a5a6-cf83c04b83f1-1430058990597-1.7-m-72-dc.wavsnippet7.wav\n"
     ]
    }
   ],
   "source": [
    "import wave \n",
    "import math\n",
    "from pydub import AudioSegment\n",
    "from pydub.utils import make_chunks\n",
    "\n",
    "def chop_song(filename, folder):\n",
    "    #print(filename)\n",
    "    head, tail = os.path.split(filename)\n",
    "    shortfilename = tail\n",
    "    #print(shortfilename)\n",
    "    myaudio = AudioSegment.from_file(filename, \"wav\") \n",
    "    chunk_length_ms = 1000 # pydub calculates in millisec\n",
    "    chunks = make_chunks(myaudio, chunk_length_ms) #Make chunks of one sec\n",
    "    #Export all of the individual chunks as wav files\n",
    "\n",
    "    for i, chunk in enumerate(chunks):\n",
    "        chunk_name = folder + shortfilename + 'snippet' + str(i+1) + '.wav'\n",
    "        print (\"exporting\", chunk_name)\n",
    "        chunk.export( 'D:/mainproject/babycrydata/audio/'+ folder + '/'+ chunk_name, format=\"wav\")\n",
    "\n",
    "\n",
    "\n",
    "for audio_file in raw_audio:\n",
    "    chop_song(audio_file, raw_audio[audio_file])"
   ]
  },
  {
   "cell_type": "code",
   "execution_count": 56,
   "id": "0890f1ae",
   "metadata": {},
   "outputs": [],
   "source": [
    "import pickle\n",
    "filename = 'D:/mainproject/babycrydata/models/myRandomForest.pkl'\n",
    "model = pickle.load(open(filename, 'rb'))"
   ]
  },
  {
   "cell_type": "code",
   "execution_count": 58,
   "id": "f29b7783",
   "metadata": {},
   "outputs": [],
   "source": [
    "predictions = []\n",
    "for i, filename in enumerate(os.listdir('D:/mainproject/babycrydata/audio/output/')):\n",
    "    last_number_frames = -1\n",
    "    if filename.endswith(\".wav\"):\n",
    "        #print filename\n",
    "        audiofile, sr = librosa.load(\"D:/mainproject/babycrydata/audio/output/\"+filename)\n",
    "        fingerprint = librosa.feature.mfcc(y=audiofile, sr=sr, n_mfcc=1)\n",
    "        x = pd.DataFrame(fingerprint, dtype = 'float32')\n",
    "        prediction = model.predict(fingerprint)\n",
    "        #print prediction\n",
    "        predictions.append(prediction[0])"
   ]
  },
  {
   "cell_type": "code",
   "execution_count": 59,
   "id": "530acbb2",
   "metadata": {},
   "outputs": [
    {
     "name": "stdout",
     "output_type": "stream",
     "text": [
      "[('discomfort', 5)]\n"
     ]
    }
   ],
   "source": [
    "from collections import Counter\n",
    "data = Counter(predictions)\n",
    "#print (data.most_common())   # Returns all unique items and their counts\n",
    "print (data.most_common(1))"
   ]
  },
  {
   "cell_type": "code",
   "execution_count": null,
   "id": "302531fc",
   "metadata": {},
   "outputs": [],
   "source": []
  }
 ],
 "metadata": {
  "kernelspec": {
   "display_name": "Python 3",
   "language": "python",
   "name": "python3"
  },
  "language_info": {
   "codemirror_mode": {
    "name": "ipython",
    "version": 3
   },
   "file_extension": ".py",
   "mimetype": "text/x-python",
   "name": "python",
   "nbconvert_exporter": "python",
   "pygments_lexer": "ipython3",
   "version": "3.6.6"
  }
 },
 "nbformat": 4,
 "nbformat_minor": 5
}
